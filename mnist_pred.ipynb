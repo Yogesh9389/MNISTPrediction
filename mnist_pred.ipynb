{
 "cells": [
  {
   "cell_type": "code",
   "execution_count": 2,
   "metadata": {},
   "outputs": [],
   "source": [
    "import numpy as np\n",
    "import matplotlib.pyplot as plt\n",
    "\n",
    "\n",
    "import keras\n",
    "\n",
    "\n",
    "#importing MNIST data set implicitely from keras \n",
    "# we do it explicitely also\n",
    "from keras.datasets import mnist\n",
    "# imports to build the model \n",
    "\n",
    "from keras.models import Sequential\n",
    "from keras.layers import Dense, Conv2D, MaxPool2D, Flatten, Dropout"
   ]
  },
  {
   "attachments": {},
   "cell_type": "markdown",
   "metadata": {},
   "source": [
    "## Get the data and pre-process it"
   ]
  },
  {
   "cell_type": "code",
   "execution_count": null,
   "metadata": {},
   "outputs": [],
   "source": [
    "(X_train, y_train), (X_test, y_test) = mnist.load_data()\n",
    "\n",
    "X_train.shape , y_train.shape , X_test.shape , y_test.shape"
   ]
  },
  {
   "cell_type": "code",
   "execution_count": 5,
   "metadata": {},
   "outputs": [],
   "source": [
    "def plot_input_img(i):\n",
    "    plt.imshow(X_train[i], cmap = 'binary')\n",
    "    plt.title(y_train[i])\n",
    "    #plt.axis('off')\n",
    "    plt.show()\n"
   ]
  },
  {
   "cell_type": "code",
   "execution_count": null,
   "metadata": {},
   "outputs": [],
   "source": [
    "for i in range(10):\n",
    "    plot_input_img(i)"
   ]
  },
  {
   "attachments": {},
   "cell_type": "markdown",
   "metadata": {},
   "source": [
    "## Pre Process the images"
   ]
  },
  {
   "cell_type": "code",
   "execution_count": 7,
   "metadata": {},
   "outputs": [],
   "source": [
    "# Pre Process the images\n",
    "\n",
    "#Normalizing the image to [0,1] range\n",
    "X_train = X_train.astype(np.float32)/255\n",
    "X_test = X_test.astype(np.float32)/255\n",
    "\n",
    "# Reshape/Expand the dimension of image to (28,28,1)\n",
    "X_train = np.expand_dims(X_train, -1)\n",
    "X_test = np.expand_dims(X_test, -1)\n",
    "\n",
    "# Convert classes to one hot vector\n",
    "\n",
    "y_train = keras.utils.to_categorical(y_train)\n",
    "y_test = keras.utils.to_categorical(y_test)"
   ]
  },
  {
   "attachments": {},
   "cell_type": "markdown",
   "metadata": {},
   "source": [
    "Building Model"
   ]
  },
  {
   "cell_type": "code",
   "execution_count": 8,
   "metadata": {},
   "outputs": [],
   "source": [
    "model = Sequential()\n",
    "\n",
    "model.add( Conv2D(32, (3,3), input_shape = (28,28,1), activation='relu') )\n",
    "model.add( MaxPool2D( (2,2) ) )\n",
    "\n",
    "model.add( Conv2D(64, (3,3), activation='relu') )\n",
    "model.add( MaxPool2D( (2,2) ) )\n",
    "\n",
    "model.add(Flatten())\n",
    "\n",
    "model.add(Dropout(0.5))\n",
    "\n",
    "#Dense is used for classification, here we have 10 neurons(classes)\n",
    "model.add(Dense(10, activation = \"softmax\"))   \n"
   ]
  },
  {
   "cell_type": "code",
   "execution_count": null,
   "metadata": {},
   "outputs": [],
   "source": [
    "model.summary()"
   ]
  },
  {
   "cell_type": "code",
   "execution_count": 10,
   "metadata": {},
   "outputs": [],
   "source": [
    "model.compile(optimizer= 'adam', loss = keras.losses.categorical_crossentropy, metrics=['accuracy'] )"
   ]
  },
  {
   "cell_type": "code",
   "execution_count": 14,
   "metadata": {},
   "outputs": [],
   "source": [
    "# Callbacks\n",
    "\n",
    "from keras.callbacks import EarlyStopping, ModelCheckpoint\n",
    "\n",
    "# EarlyStopping\n",
    "\n",
    "es = EarlyStopping(monitor = 'val_accuracy', min_delta = 0.01, patience = 4, verbose=1)\n",
    "\n",
    "# ModelCheckpoint\n",
    "\n",
    "mc = ModelCheckpoint(\"E:\\MCA\\MCA Sem 2\\ML PROJECTS\\Mnist\\MNISTPrediction//bestmodel.h5\", monitor=\"val_accuracy\", verbose= 1, save_best_only=True)\n",
    "\n",
    "cb = [es,mc]"
   ]
  },
  {
   "attachments": {},
   "cell_type": "markdown",
   "metadata": {},
   "source": [
    "Model Traning "
   ]
  },
  {
   "cell_type": "code",
   "execution_count": 18,
   "metadata": {},
   "outputs": [
    {
     "name": "stdout",
     "output_type": "stream",
     "text": [
      "Epoch 1/5\n",
      "1311/1313 [============================>.] - ETA: 0s - loss: 0.0372 - accuracy: 0.9880\n",
      "Epoch 1: val_accuracy did not improve from 0.98889\n",
      "1313/1313 [==============================] - 31s 24ms/step - loss: 0.0372 - accuracy: 0.9880 - val_loss: 0.0385 - val_accuracy: 0.9884\n",
      "Epoch 2/5\n",
      "1312/1313 [============================>.] - ETA: 0s - loss: 0.0373 - accuracy: 0.9878\n",
      "Epoch 2: val_accuracy improved from 0.98889 to 0.99011, saving model to E:\\MCA\\MCA Sem 2\\ML PROJECTS\\Mnist\\MNISTPrediction\\bestmodel.h5\n",
      "1313/1313 [==============================] - 33s 25ms/step - loss: 0.0373 - accuracy: 0.9878 - val_loss: 0.0332 - val_accuracy: 0.9901\n",
      "Epoch 3/5\n",
      "1310/1313 [============================>.] - ETA: 0s - loss: 0.0340 - accuracy: 0.9886\n",
      "Epoch 3: val_accuracy did not improve from 0.99011\n",
      "1313/1313 [==============================] - 31s 24ms/step - loss: 0.0340 - accuracy: 0.9887 - val_loss: 0.0350 - val_accuracy: 0.9898\n",
      "Epoch 4/5\n",
      "1312/1313 [============================>.] - ETA: 0s - loss: 0.0318 - accuracy: 0.9891\n",
      "Epoch 4: val_accuracy did not improve from 0.99011\n",
      "1313/1313 [==============================] - 31s 24ms/step - loss: 0.0318 - accuracy: 0.9891 - val_loss: 0.0346 - val_accuracy: 0.9895\n",
      "Epoch 5/5\n",
      "1311/1313 [============================>.] - ETA: 0s - loss: 0.0296 - accuracy: 0.9902\n",
      "Epoch 5: val_accuracy did not improve from 0.99011\n",
      "1313/1313 [==============================] - 34s 26ms/step - loss: 0.0296 - accuracy: 0.9902 - val_loss: 0.0357 - val_accuracy: 0.9894\n",
      "Epoch 5: early stopping\n"
     ]
    }
   ],
   "source": [
    "his = model.fit(X_train, y_train, epochs=5, validation_split = 0.3, callbacks=cb)"
   ]
  },
  {
   "cell_type": "code",
   "execution_count": 21,
   "metadata": {},
   "outputs": [],
   "source": [
    "#saving and load the model\n",
    "model_S = keras.models.load_model(\"E:\\MCA\\MCA Sem 2\\ML PROJECTS\\Mnist\\MNISTPrediction//bestmodel.h5\")\n"
   ]
  },
  {
   "cell_type": "code",
   "execution_count": 20,
   "metadata": {},
   "outputs": [
    {
     "name": "stdout",
     "output_type": "stream",
     "text": [
      "313/313 [==============================] - 3s 8ms/step - loss: 0.0279 - accuracy: 0.9907\n",
      "the model accuracy is 0.9907000064849854\n"
     ]
    }
   ],
   "source": [
    "# Evaluate the model \n",
    "score = model_S.evaluate(X_test,y_test)\n",
    "\n",
    "print(f\"the model accuracy is {score[1]}\")"
   ]
  }
 ],
 "metadata": {
  "kernelspec": {
   "display_name": "Python 3",
   "language": "python",
   "name": "python3"
  },
  "language_info": {
   "codemirror_mode": {
    "name": "ipython",
    "version": 3
   },
   "file_extension": ".py",
   "mimetype": "text/x-python",
   "name": "python",
   "nbconvert_exporter": "python",
   "pygments_lexer": "ipython3",
   "version": "3.10.11"
  },
  "orig_nbformat": 4
 },
 "nbformat": 4,
 "nbformat_minor": 2
}
